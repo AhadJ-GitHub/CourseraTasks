{
 "cells": [
  {
   "cell_type": "code",
   "execution_count": 8,
   "id": "e3989bd6",
   "metadata": {},
   "outputs": [],
   "source": [
    "A=['h',15, 2.1]"
   ]
  },
  {
   "cell_type": "code",
   "execution_count": 9,
   "id": "c4fce92f",
   "metadata": {},
   "outputs": [],
   "source": [
    "B=A"
   ]
  },
  {
   "cell_type": "code",
   "execution_count": 10,
   "id": "84b1ee05",
   "metadata": {},
   "outputs": [],
   "source": [
    "B[0]='banana'"
   ]
  },
  {
   "cell_type": "code",
   "execution_count": 11,
   "id": "cc48098b",
   "metadata": {},
   "outputs": [],
   "source": [
    "A[0]='hard'"
   ]
  },
  {
   "cell_type": "code",
   "execution_count": 12,
   "id": "a24dd050",
   "metadata": {},
   "outputs": [
    {
     "data": {
      "text/plain": [
       "['hard', 15, 2.1]"
      ]
     },
     "execution_count": 12,
     "metadata": {},
     "output_type": "execute_result"
    }
   ],
   "source": [
    "B"
   ]
  },
  {
   "cell_type": "code",
   "execution_count": null,
   "id": "34e4904a",
   "metadata": {},
   "outputs": [],
   "source": []
  }
 ],
 "metadata": {
  "kernelspec": {
   "display_name": "Python 3 (ipykernel)",
   "language": "python",
   "name": "python3"
  },
  "language_info": {
   "codemirror_mode": {
    "name": "ipython",
    "version": 3
   },
   "file_extension": ".py",
   "mimetype": "text/x-python",
   "name": "python",
   "nbconvert_exporter": "python",
   "pygments_lexer": "ipython3",
   "version": "3.10.9"
  }
 },
 "nbformat": 4,
 "nbformat_minor": 5
}
